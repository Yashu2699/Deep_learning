{
  "nbformat": 4,
  "nbformat_minor": 0,
  "metadata": {
    "colab": {
      "name": "9_leNet",
      "provenance": [],
      "collapsed_sections": [],
      "authorship_tag": "ABX9TyOBGw5oIUnY0R26EpXlsAK5",
      "include_colab_link": true
    },
    "kernelspec": {
      "name": "python3",
      "display_name": "Python 3"
    },
    "language_info": {
      "name": "python"
    },
    "accelerator": "GPU"
  },
  "cells": [
    {
      "cell_type": "markdown",
      "metadata": {
        "id": "view-in-github",
        "colab_type": "text"
      },
      "source": [
        "<a href=\"https://colab.research.google.com/github/Yashu2699/Deep_learning/blob/main/9_leNet.ipynb\" target=\"_parent\"><img src=\"https://colab.research.google.com/assets/colab-badge.svg\" alt=\"Open In Colab\"/></a>"
      ]
    },
    {
      "cell_type": "code",
      "metadata": {
        "colab": {
          "base_uri": "https://localhost:8080/"
        },
        "id": "_M97iMTTMGwY",
        "outputId": "0d135430-af10-4756-e89d-9ce1dffd9988"
      },
      "source": [
        "from keras.datasets import mnist\n",
        "(x_train, y_train), (x_test, y_test) = mnist.load_data()\n",
        "print(\"The mnist dataset has a training set of %d samples\" % len(x_train))"
      ],
      "execution_count": null,
      "outputs": [
        {
          "output_type": "stream",
          "name": "stdout",
          "text": [
            "The mnist dataset has a training set of 60000 samples\n"
          ]
        }
      ]
    },
    {
      "cell_type": "code",
      "metadata": {
        "colab": {
          "base_uri": "https://localhost:8080/",
          "height": 210
        },
        "id": "EZY3lTodMh1R",
        "outputId": "7e875d3d-2dcf-4741-fd57-f6e9e1d8865f"
      },
      "source": [
        "import matplotlib.pyplot as plt\n",
        "%matplotlib inline\n",
        "import matplotlib.cm as cm\n",
        "import numpy as np\n",
        "\n",
        "fig = plt.figure(figsize=(20,20))\n",
        "for i in range(6):\n",
        "  ax = fig.add_subplot(1,6,i+1,xticks=[],yticks=[])\n",
        "  ax.imshow(x_train[i], cmap='gray')\n",
        "  ax.set_title(str(y_train[i]))"
      ],
      "execution_count": null,
      "outputs": [
        {
          "output_type": "display_data",
          "data": {
            "image/png": "[encoded data removed]",
            "text/plain": [
              "<Figure size 1440x1440 with 6 Axes>"
            ]
          },
          "metadata": {}
        }
      ]
    },
    {
      "cell_type": "code",
      "metadata": {
        "id": "4F_QxIa7NEBp"
      },
      "source": [
        "mean = np.mean(x_train)\n",
        "std = np.std(x_train)\n",
        "x_train = (x_train - mean)/(std + 1e-7)\n",
        "x_test = (x_test - mean)/(std + 1e-7)"
      ],
      "execution_count": null,
      "outputs": []
    },
    {
      "cell_type": "code",
      "metadata": {
        "id": "pXR5usRWNgDV"
      },
      "source": [
        "from keras.utils import np_utils\n",
        "\n",
        "num_classes = 10\n",
        "y_train = np_utils.to_categorical(y_train, num_classes)\n",
        "y_test = np_utils.to_categorical(y_test, num_classes)\n"
      ],
      "execution_count": null,
      "outputs": []
    },
    {
      "cell_type": "code",
      "metadata": {
        "id": "SBGob5M4N1MJ"
      },
      "source": [
        "#reshape the data\n",
        "img_rows, img_cols = 28, 28\n",
        "\n",
        "x_train = x_train.reshape(x_train.shape[0], img_rows, img_cols, 1)\n",
        "x_test = x_test.reshape(x_test.shape[0], img_rows, img_cols, 1)\n",
        "input_shape = (img_rows, img_cols, 1)"
      ],
      "execution_count": null,
      "outputs": []
    },
    {
      "cell_type": "code",
      "metadata": {
        "colab": {
          "base_uri": "https://localhost:8080/"
        },
        "id": "mg11eZLSOxVh",
        "outputId": "354b5401-35cb-434d-f8be-63be7eb19f44"
      },
      "source": [
        "print(input_shape)\n",
        "print(x_train.shape)"
      ],
      "execution_count": null,
      "outputs": [
        {
          "output_type": "stream",
          "name": "stdout",
          "text": [
            "(28, 28, 1)\n",
            "(60000, 28, 28, 1)\n"
          ]
        }
      ]
    },
    {
      "cell_type": "code",
      "metadata": {
        "colab": {
          "base_uri": "https://localhost:8080/"
        },
        "id": "UYpf1FXMO4uQ",
        "outputId": "9eed317e-4fd9-4133-b8da-089d7d387000"
      },
      "source": [
        "from keras.models import Sequential\n",
        "from keras.layers import Conv2D, AveragePooling2D, Flatten, Dense\n",
        "\n",
        "model = Sequential()\n",
        "model.add(Conv2D(6, (5,5), strides=(1,1), activation='tanh', input_shape=input_shape, padding='same'))\n",
        "model.add(AveragePooling2D(pool_size=(2,2), strides=2, padding='valid'))\n",
        "model.add(Conv2D(16, (5,5), strides=(1,1), activation='tanh', padding='valid'))\n",
        "model.add(AveragePooling2D(pool_size=(2,2), strides=2, padding='valid'))\n",
        "model.add(Conv2D(120, (5,5), strides=(1,1), padding='valid', activation='tanh'))\n",
        "model.add(Flatten())\n",
        "model.add(Dense(84, activation='tanh'))\n",
        "model.add(Dense(10, activation='softmax'))\n",
        "\n",
        "model.summary()"
      ],
      "execution_count": null,
      "outputs": [
        {
          "output_type": "stream",
          "name": "stdout",
          "text": [
            "Model: \"sequential\"\n",
            "_________________________________________________________________\n",
            " Layer (type)                Output Shape              Param #   \n",
            "=================================================================\n",
            " conv2d (Conv2D)             (None, 28, 28, 6)         156       \n",
            "                                                                 \n",
            " average_pooling2d (AverageP  (None, 14, 14, 6)        0         \n",
            " ooling2D)                                                       \n",
            "                                                                 \n",
            " conv2d_1 (Conv2D)           (None, 10, 10, 16)        2416      \n",
            "                                                                 \n",
            " average_pooling2d_1 (Averag  (None, 5, 5, 16)         0         \n",
            " ePooling2D)                                                     \n",
            "                                                                 \n",
            " conv2d_2 (Conv2D)           (None, 1, 1, 120)         48120     \n",
            "                                                                 \n",
            " flatten (Flatten)           (None, 120)               0         \n",
            "                                                                 \n",
            " dense (Dense)               (None, 84)                10164     \n",
            "                                                                 \n",
            " dense_1 (Dense)             (None, 10)                850       \n",
            "                                                                 \n",
            "=================================================================\n",
            "Total params: 61,706\n",
            "Trainable params: 61,706\n",
            "Non-trainable params: 0\n",
            "_________________________________________________________________\n"
          ]
        }
      ]
    },
    {
      "cell_type": "code",
      "metadata": {
        "id": "AqqDT_4jQYoQ"
      },
      "source": [
        "# compile the model\n",
        "\n",
        "model.compile(loss='categorical_crossentropy', optimizer='adam', metrics=['accuracy'])"
      ],
      "execution_count": null,
      "outputs": []
    },
    {
      "cell_type": "code",
      "metadata": {
        "colab": {
          "base_uri": "https://localhost:8080/"
        },
        "id": "xgwcsPDcR8cD",
        "outputId": "579f7281-9e63-46be-89d0-61dda1753360"
      },
      "source": [
        "from keras.callbacks import LearningRateScheduler, ModelCheckpoint\n",
        "\n",
        "def lr_schedule(epoch):\n",
        "  if epoch <= 2:\n",
        "    lr = 5e-4\n",
        "  elif epoch>2 and epoch<=5:\n",
        "    lr = 2e-4\n",
        "  elif epoch>5 and epoch<=9:\n",
        "    lr = 5e-5\n",
        "  else:\n",
        "    lr = 1e-5\n",
        "  return lr\n",
        "\n",
        "lr_scheduler = LearningRateScheduler(lr_schedule)\n",
        "\n",
        "checkpointer = ModelCheckpoint(filepath='model.weights.best.hdf5', verbose=1, save_best_only=True)\n",
        "  \n",
        "\n",
        "hist = model.fit(x_train, y_train, batch_size=32, epochs=20, validation_data=(x_test, y_test), callbacks=[checkpointer, lr_scheduler], verbose=2, shuffle=True)"
      ],
      "execution_count": null,
      "outputs": [
        {
          "output_type": "stream",
          "name": "stdout",
          "text": [
            "Epoch 1/20\n",
            "\n",
            "Epoch 00001: val_loss improved from inf to 0.09080, saving model to model.weights.best.hdf5\n",
            "1875/1875 - 11s - loss: 0.2314 - accuracy: 0.9323 - val_loss: 0.0908 - val_accuracy: 0.9725 - lr: 5.0000e-04 - 11s/epoch - 6ms/step\n",
            "Epoch 2/20\n",
            "\n",
            "Epoch 00002: val_loss improved from 0.09080 to 0.06149, saving model to model.weights.best.hdf5\n",
            "1875/1875 - 9s - loss: 0.0809 - accuracy: 0.9754 - val_loss: 0.0615 - val_accuracy: 0.9812 - lr: 5.0000e-04 - 9s/epoch - 5ms/step\n",
            "Epoch 3/20\n",
            "\n",
            "Epoch 00003: val_loss improved from 0.06149 to 0.04699, saving model to model.weights.best.hdf5\n",
            "1875/1875 - 9s - loss: 0.0553 - accuracy: 0.9826 - val_loss: 0.0470 - val_accuracy: 0.9847 - lr: 5.0000e-04 - 9s/epoch - 5ms/step\n",
            "Epoch 4/20\n",
            "\n",
            "Epoch 00004: val_loss improved from 0.04699 to 0.04412, saving model to model.weights.best.hdf5\n",
            "1875/1875 - 9s - loss: 0.0323 - accuracy: 0.9906 - val_loss: 0.0441 - val_accuracy: 0.9859 - lr: 2.0000e-04 - 9s/epoch - 5ms/step\n",
            "Epoch 5/20\n",
            "\n",
            "Epoch 00005: val_loss improved from 0.04412 to 0.03907, saving model to model.weights.best.hdf5\n",
            "1875/1875 - 9s - loss: 0.0277 - accuracy: 0.9919 - val_loss: 0.0391 - val_accuracy: 0.9876 - lr: 2.0000e-04 - 9s/epoch - 5ms/step\n",
            "Epoch 6/20\n",
            "\n",
            "Epoch 00006: val_loss improved from 0.03907 to 0.03526, saving model to model.weights.best.hdf5\n",
            "1875/1875 - 9s - loss: 0.0243 - accuracy: 0.9929 - val_loss: 0.0353 - val_accuracy: 0.9888 - lr: 2.0000e-04 - 9s/epoch - 5ms/step\n",
            "Epoch 7/20\n",
            "\n",
            "Epoch 00007: val_loss improved from 0.03526 to 0.03343, saving model to model.weights.best.hdf5\n",
            "1875/1875 - 9s - loss: 0.0169 - accuracy: 0.9958 - val_loss: 0.0334 - val_accuracy: 0.9888 - lr: 5.0000e-05 - 9s/epoch - 5ms/step\n",
            "Epoch 8/20\n",
            "\n",
            "Epoch 00008: val_loss improved from 0.03343 to 0.03277, saving model to model.weights.best.hdf5\n",
            "1875/1875 - 9s - loss: 0.0156 - accuracy: 0.9963 - val_loss: 0.0328 - val_accuracy: 0.9894 - lr: 5.0000e-05 - 9s/epoch - 5ms/step\n",
            "Epoch 9/20\n",
            "\n",
            "Epoch 00009: val_loss did not improve from 0.03277\n",
            "1875/1875 - 9s - loss: 0.0148 - accuracy: 0.9964 - val_loss: 0.0330 - val_accuracy: 0.9889 - lr: 5.0000e-05 - 9s/epoch - 5ms/step\n",
            "Epoch 10/20\n",
            "\n",
            "Epoch 00010: val_loss improved from 0.03277 to 0.03215, saving model to model.weights.best.hdf5\n",
            "1875/1875 - 9s - loss: 0.0139 - accuracy: 0.9966 - val_loss: 0.0322 - val_accuracy: 0.9900 - lr: 5.0000e-05 - 9s/epoch - 5ms/step\n",
            "Epoch 11/20\n",
            "\n",
            "Epoch 00011: val_loss improved from 0.03215 to 0.03097, saving model to model.weights.best.hdf5\n",
            "1875/1875 - 9s - loss: 0.0122 - accuracy: 0.9973 - val_loss: 0.0310 - val_accuracy: 0.9899 - lr: 1.0000e-05 - 9s/epoch - 5ms/step\n",
            "Epoch 12/20\n",
            "\n",
            "Epoch 00012: val_loss improved from 0.03097 to 0.03077, saving model to model.weights.best.hdf5\n",
            "1875/1875 - 9s - loss: 0.0119 - accuracy: 0.9976 - val_loss: 0.0308 - val_accuracy: 0.9901 - lr: 1.0000e-05 - 9s/epoch - 5ms/step\n",
            "Epoch 13/20\n",
            "\n",
            "Epoch 00013: val_loss did not improve from 0.03077\n",
            "1875/1875 - 9s - loss: 0.0117 - accuracy: 0.9977 - val_loss: 0.0311 - val_accuracy: 0.9896 - lr: 1.0000e-05 - 9s/epoch - 5ms/step\n",
            "Epoch 14/20\n",
            "\n",
            "Epoch 00014: val_loss did not improve from 0.03077\n",
            "1875/1875 - 9s - loss: 0.0116 - accuracy: 0.9976 - val_loss: 0.0310 - val_accuracy: 0.9901 - lr: 1.0000e-05 - 9s/epoch - 5ms/step\n",
            "Epoch 15/20\n",
            "\n",
            "Epoch 00015: val_loss improved from 0.03077 to 0.03069, saving model to model.weights.best.hdf5\n",
            "1875/1875 - 9s - loss: 0.0114 - accuracy: 0.9977 - val_loss: 0.0307 - val_accuracy: 0.9902 - lr: 1.0000e-05 - 9s/epoch - 5ms/step\n",
            "Epoch 16/20\n",
            "\n",
            "Epoch 00016: val_loss did not improve from 0.03069\n",
            "1875/1875 - 9s - loss: 0.0113 - accuracy: 0.9977 - val_loss: 0.0311 - val_accuracy: 0.9899 - lr: 1.0000e-05 - 9s/epoch - 5ms/step\n",
            "Epoch 17/20\n",
            "\n",
            "Epoch 00017: val_loss did not improve from 0.03069\n",
            "1875/1875 - 9s - loss: 0.0111 - accuracy: 0.9977 - val_loss: 0.0313 - val_accuracy: 0.9897 - lr: 1.0000e-05 - 9s/epoch - 5ms/step\n",
            "Epoch 18/20\n",
            "\n",
            "Epoch 00018: val_loss did not improve from 0.03069\n",
            "1875/1875 - 9s - loss: 0.0110 - accuracy: 0.9979 - val_loss: 0.0308 - val_accuracy: 0.9901 - lr: 1.0000e-05 - 9s/epoch - 5ms/step\n",
            "Epoch 19/20\n",
            "\n",
            "Epoch 00019: val_loss did not improve from 0.03069\n",
            "1875/1875 - 9s - loss: 0.0108 - accuracy: 0.9977 - val_loss: 0.0309 - val_accuracy: 0.9904 - lr: 1.0000e-05 - 9s/epoch - 5ms/step\n",
            "Epoch 20/20\n",
            "\n",
            "Epoch 00020: val_loss did not improve from 0.03069\n",
            "1875/1875 - 9s - loss: 0.0107 - accuracy: 0.9978 - val_loss: 0.0309 - val_accuracy: 0.9899 - lr: 1.0000e-05 - 9s/epoch - 5ms/step\n"
          ]
        }
      ]
    },
    {
      "cell_type": "code",
      "metadata": {
        "id": "isGsvlndTPWG"
      },
      "source": [
        "model.load_weights('model.weights.best.hdf5')"
      ],
      "execution_count": null,
      "outputs": []
    },
    {
      "cell_type": "code",
      "metadata": {
        "colab": {
          "base_uri": "https://localhost:8080/"
        },
        "id": "mfH6HbhaVKoF",
        "outputId": "11614612-cd5a-4252-be4d-4e72eab26cab"
      },
      "source": [
        "score = model.evaluate(x_test, y_test, verbose=0)\n",
        "print(score)\n",
        "accuracy = score[1]*100\n",
        "print('Test accuracy: %.2f%%' %accuracy)"
      ],
      "execution_count": null,
      "outputs": [
        {
          "output_type": "stream",
          "name": "stdout",
          "text": [
            "[0.03069131448864937, 0.9901999831199646]\n",
            "Test accuracy: 99.02%\n"
          ]
        }
      ]
    },
    {
      "cell_type": "code",
      "metadata": {
        "colab": {
          "base_uri": "https://localhost:8080/",
          "height": 295
        },
        "id": "aRSXnW7kV5cs",
        "outputId": "2669472c-3b92-44d2-db15-b4af2b5b55d2"
      },
      "source": [
        "import matplotlib.pyplot as plt\n",
        "\n",
        "f, ax = plt.subplots()\n",
        "ax.plot([None] + hist.history['accuracy'], 'o-')\n",
        "ax.plot([None] + hist.history['val_accuracy'], 'x-')\n",
        "ax.legend(['Train acc', 'Validation acc'], loc=0)\n",
        "ax.set_title('Training/Validation acc per epoch')\n",
        "ax.set_xlabel('epoch')\n",
        "ax.set_ylabel('acc')\n",
        "plt.show()\n"
      ],
      "execution_count": null,
      "outputs": [
        {
          "output_type": "display_data",
          "data": {
            "image/png": "[encoded data removed]",
            "text/plain": [
              "<Figure size 432x288 with 1 Axes>"
            ]
          },
          "metadata": {
            "needs_background": "light"
          }
        }
      ]
    },
    {
      "cell_type": "code",
      "metadata": {
        "colab": {
          "base_uri": "https://localhost:8080/",
          "height": 295
        },
        "id": "0N7OXSFqZnNM",
        "outputId": "eae19f5b-d15b-4f15-bb29-1f341ee23343"
      },
      "source": [
        "f, ax = plt.subplots()\n",
        "ax.plot([None] + hist.history['loss'], 'o-')\n",
        "ax.plot([None] + hist.history['val_loss'], 'x-')\n",
        "ax.legend(['Train loss', 'Validation loss'], loc=0)\n",
        "ax.set_title('Training/Validation loss per epoch')\n",
        "ax.set_xlabel('epoch')\n",
        "ax.set_ylabel('acc')\n",
        "plt.show()\n"
      ],
      "execution_count": null,
      "outputs": [
        {
          "output_type": "display_data",
          "data": {
            "image/png": "[encoded data removed]",
            "text/plain": [
              "<Figure size 432x288 with 1 Axes>"
            ]
          },
          "metadata": {
            "needs_background": "light"
          }
        }
      ]
    },
    {
      "cell_type": "code",
      "metadata": {
        "id": "gpWHgiD9ZxCN"
      },
      "source": [
        ""
      ],
      "execution_count": null,
      "outputs": []
    }
  ]
}