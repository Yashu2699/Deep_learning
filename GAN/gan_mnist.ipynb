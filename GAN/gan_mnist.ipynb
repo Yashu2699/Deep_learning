{
  "nbformat": 4,
  "nbformat_minor": 0,
  "metadata": {
    "colab": {
      "name": "gan_mnist.ipynb",
      "provenance": [],
      "collapsed_sections": [],
      "authorship_tag": "ABX9TyPtJFwshYXpRfa190o+MWnQ",
      "include_colab_link": true
    },
    "kernelspec": {
      "name": "python3",
      "display_name": "Python 3"
    },
    "language_info": {
      "name": "python"
    }
  },
  "cells": [
    {
      "cell_type": "markdown",
      "metadata": {
        "id": "view-in-github",
        "colab_type": "text"
      },
      "source": [
        "<a href=\"https://colab.research.google.com/github/Yashu2699/Deep_learning/blob/main/GAN/gan_mnist.ipynb\" target=\"_parent\"><img src=\"https://colab.research.google.com/assets/colab-badge.svg\" alt=\"Open In Colab\"/></a>"
      ]
    },
    {
      "cell_type": "code",
      "execution_count": 6,
      "metadata": {
        "id": "96g7e48D0ir6"
      },
      "outputs": [],
      "source": [
        "from __future__ import print_function, division\n",
        "\n",
        "from keras.datasets import mnist\n",
        "from keras.layers import Input, Dense, Reshape, Flatten, Dropout\n",
        "from keras.layers import BatchNormalization, ZeroPadding2D\n",
        "from keras.layers.advanced_activations import LeakyReLU\n",
        "from keras.layers.convolutional import UpSampling2D, Conv2D\n",
        "from keras.models import Model, Sequential\n",
        "from tensorflow.keras.optimizers import Adam\n",
        "\n",
        "import matplotlib.pyplot as plt\n",
        "%matplotlib inline\n",
        "\n",
        "from tqdm import tqdm\n",
        "import numpy as np"
      ]
    },
    {
      "cell_type": "code",
      "source": [
        "np.random.seed(10)\n",
        "\n",
        "random_dim = 100"
      ],
      "metadata": {
        "id": "sG0UJH3Y1SHm"
      },
      "execution_count": 7,
      "outputs": []
    },
    {
      "cell_type": "code",
      "source": [
        "def load_mnist_data():\n",
        "  (x_train, y_train), (x_test, y_test) = mnist.load_data()\n",
        "  x_train = (x_train.astype(np.float32) - 127.5) / 127.5\n",
        "  x_train = x_train.reshape(60000, 784)\n",
        "  return (x_train, y_train, x_test, y_test)"
      ],
      "metadata": {
        "id": "O_UZTxAp2T1I"
      },
      "execution_count": 8,
      "outputs": []
    },
    {
      "cell_type": "code",
      "source": [
        "def get_generator():\n",
        "  generator = Sequential()\n",
        "  generator.add(Dense(256, input_dim=random_dim))\n",
        "  generator.add(LeakyReLU(0.2))\n",
        "\n",
        "  generator.add(Dense(512))\n",
        "  generator.add(LeakyReLU(0.2))\n",
        "\n",
        "  generator.add(Dense(1024))\n",
        "  generator.add(LeakyReLU(0.2))\n",
        "\n",
        "  generator.add(Dense(784, activation = 'tanh'))\n",
        "  generator.compile(loss='binary_crossentropy', optimizer='rmsprop')\n",
        "  generator.summary()\n",
        "  return generator"
      ],
      "metadata": {
        "id": "yrmS06ev2vlz"
      },
      "execution_count": 9,
      "outputs": []
    },
    {
      "cell_type": "code",
      "source": [
        "from re import L\n",
        "def get_discriminator():\n",
        "  discriminator = Sequential()\n",
        "  discriminator.add(Dense(1024, input_dim=784))\n",
        "  discriminator.add(LeakyReLU(0.2))\n",
        "  discriminator.add(Dropout(0.3))\n",
        "\n",
        "  discriminator.add(Dense(512))\n",
        "  discriminator.add(LeakyReLU(0.2))\n",
        "  discriminator.add(Dropout(0.3))\n",
        "\n",
        "  discriminator.add(Dense(256))\n",
        "  discriminator.add(LeakyReLU(0.2))\n",
        "  discriminator.add(Dropout(0.3))\n",
        "\n",
        "  discriminator.add(Dense(1, activation='sigmoid'))\n",
        "  discriminator.compile(loss='binary_crossentropy', optimizer='rmsprop')\n",
        "\n",
        "  discriminator.summary()\n",
        "  return discriminator"
      ],
      "metadata": {
        "id": "u43A_Lhb3a-O"
      },
      "execution_count": 10,
      "outputs": []
    },
    {
      "cell_type": "code",
      "source": [
        "def get_gan_network(discriminator, random_dim, generator):\n",
        "  \n",
        "  discriminator.tainable = False\n",
        "  gan_input = Input(shape=(random_dim, )) #gan_input\n",
        "  x = generator(gan_input) #the output of the generator (an image)\n",
        "  gan_output = discriminator(x) #the output of the discriminator (probability if the image is real or not)\n",
        "  gan = Model(inputs=gan_input, outputs=gan_output)\n",
        "  gan.compile(loss='binary_crossentropy', optimizer='adam')\n",
        "  \n",
        "  return gan"
      ],
      "metadata": {
        "id": "2Vqt8wI14Qgn"
      },
      "execution_count": 11,
      "outputs": []
    },
    {
      "cell_type": "code",
      "source": [
        "def train(epochs=1, batch_size=128):\n",
        "  x_train, y_train, x_test, y_test = load_mnist_data()\n",
        "  batch_count = x_train.shape[0] / batch_size #split training data into batches of 128\n",
        "\n",
        "  generator = get_generator()\n",
        "  discriminator = get_discriminator()\n",
        "  gan = get_gan_network(discriminator, random_dim, generator)\n",
        "\n",
        "  for e in range(1, epochs+1):\n",
        "    print('-'*15, 'Epoch %d' % e, '-'*15)\n",
        "    for _ in tqdm(range(int(batch_count))):\n",
        "      noise = np.random.normal(0, 1, size=[batch_size, random_dim])  # get a random set of input noise and images\n",
        "      image_batch = x_train[np.random.randint(0, x_train.shape[0], size=batch_size)]\n",
        "\n",
        "      #generate fake images\n",
        "      generated_images = generator.predict(noise)\n",
        "      x = np.concatenate([image_batch, generated_images])\n",
        "\n",
        "      #labels for generated and real data\n",
        "      y_dis = np.zeros(2*batch_size)\n",
        "      #one-sided label smooothing\n",
        "      y_dis[:batch_size] = 0.9\n",
        "\n",
        "      #train discriminator\n",
        "      discriminator.trainable = True\n",
        "      discriminator.train_on_batch(x, y_dis)\n",
        "\n",
        "      #train generator\n",
        "      noise = np.random.normal(0, 1, size=[batch_size, random_dim])\n",
        "      y_gen = np.ones(batch_size)\n",
        "      discriminator.trainable = False\n",
        "      gan.train_on_batch(noise, y_gen)\n",
        "\n",
        "    if(e==1 or e%20==0):\n",
        "      plot_generated_images(e, generator)\n",
        "\n"
      ],
      "metadata": {
        "id": "ig7UfAUM5Eam"
      },
      "execution_count": 15,
      "outputs": []
    },
    {
      "cell_type": "code",
      "source": [
        "def plot_generated_images(epoch, generator, examples=100, dim=(10,10), figsize=(10,10)):\n",
        "  noise = np.random.normal(0, 1, size=[examples, random_dim])\n",
        "  generated_images = generator.predict(noise)\n",
        "  generated_images = generated_images.reshape(examples, 28, 28)\n",
        "\n",
        "  plt.figure(figsize=figsize)\n",
        "  for i in range(generated_images.shape[0]):\n",
        "    plt.subplot(dim[0], dim[1], i+1)\n",
        "    plt.imshow(generated_images[i], interpolation='nearest', cmap='gray_r')\n",
        "    plt.axis('off')\n",
        "  plt.tight_layout()\n",
        "  plt.savefig('gan_generated_image_epoch_%d.png' % epoch)\n",
        "\n"
      ],
      "metadata": {
        "id": "DFlTM7Zw7iTr"
      },
      "execution_count": 16,
      "outputs": []
    },
    {
      "cell_type": "code",
      "source": [
        ""
      ],
      "metadata": {
        "id": "hLcSnBpb9G4i"
      },
      "execution_count": null,
      "outputs": []
    }
  ]
}