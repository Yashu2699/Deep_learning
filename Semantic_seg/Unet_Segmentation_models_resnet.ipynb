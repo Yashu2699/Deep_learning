{
  "nbformat": 4,
  "nbformat_minor": 0,
  "metadata": {
    "colab": {
      "name": "Unet_Segmentation_models_resnet.ipynb",
      "provenance": [],
      "collapsed_sections": [],
      "mount_file_id": "1n0mZWpFPFGqGw_7W9usG5mjj4ox3AvKu",
      "authorship_tag": "ABX9TyPCVxRQi7TKh5AOyfGv3F3Z",
      "include_colab_link": true
    },
    "kernelspec": {
      "name": "python3",
      "display_name": "Python 3"
    },
    "language_info": {
      "name": "python"
    },
    "accelerator": "GPU"
  },
  "cells": [
    {
      "cell_type": "markdown",
      "metadata": {
        "id": "view-in-github",
        "colab_type": "text"
      },
      "source": [
        "<a href=\"https://colab.research.google.com/github/Yashu2699/Deep_learning/blob/main/Semantic_seg/Unet_Segmentation_models_resnet.ipynb\" target=\"_parent\"><img src=\"https://colab.research.google.com/assets/colab-badge.svg\" alt=\"Open In Colab\"/></a>"
      ]
    },
    {
      "cell_type": "code",
      "execution_count": null,
      "metadata": {
        "id": "okgEaEKK8_9s"
      },
      "outputs": [],
      "source": [
        "!pip install segmentation-models"
      ]
    },
    {
      "cell_type": "code",
      "source": [
        "import tensorflow as tf\n",
        "import segmentation_models as sm\n",
        "import glob\n",
        "import cv2\n",
        "import os\n",
        "import numpy as np\n",
        "import matplotlib.pyplot as plt\n",
        "import keras\n",
        "from keras.utils.np_utils import normalize\n",
        "from keras.metrics import MeanIoU\n",
        "\n",
        "sm.set_framework('tf.keras')\n",
        "sm.framework()"
      ],
      "metadata": {
        "colab": {
          "base_uri": "https://localhost:8080/",
          "height": 54
        },
        "id": "YHNwJuO0-ZSi",
        "outputId": "6a0f1f9a-88f2-417b-aa1b-1495fb1ea4ea"
      },
      "execution_count": 2,
      "outputs": [
        {
          "output_type": "stream",
          "name": "stdout",
          "text": [
            "Segmentation Models: using `keras` framework.\n"
          ]
        },
        {
          "output_type": "execute_result",
          "data": {
            "application/vnd.google.colaboratory.intrinsic+json": {
              "type": "string"
            },
            "text/plain": [
              "'tf.keras'"
            ]
          },
          "metadata": {},
          "execution_count": 2
        }
      ]
    },
    {
      "cell_type": "code",
      "source": [
        "height = 128\n",
        "width = 128\n",
        "n_classes = 4\n",
        "\n",
        "train_images = []\n",
        "for path in glob.glob('/content/drive/MyDrive/ColabNotebooks/deep learning /Object_Segmentation/image_datasets/images/'):\n",
        "  for img_path in glob.glob(os.path.join(path, '*.tif')):\n",
        "    img = cv2.imread(img_path, 1)\n",
        "    train_images.append(img)\n",
        "\n",
        "train_images = np.array(train_images)\n",
        "\n",
        "train_masks = []\n",
        "for path in glob.glob('/content/drive/MyDrive/ColabNotebooks/deep learning /Object_Segmentation/image_datasets/masks_final/'):\n",
        "  for img_path in glob.glob(os.path.join(path, '*.tif')):\n",
        "    mask = cv2.imread(img_path, 0)\n",
        "    train_masks.append(mask)\n",
        "\n",
        "train_masks = np.array(train_masks)"
      ],
      "metadata": {
        "id": "i1oXpGsR-ZVq"
      },
      "execution_count": 3,
      "outputs": []
    },
    {
      "cell_type": "code",
      "source": [
        "from sklearn.preprocessing import LabelEncoder\n",
        "labelencoder = LabelEncoder()\n",
        "\n",
        "n, h, w = train_masks.shape\n",
        "train_masks_reshaped = train_masks.reshape(-1, 1).ravel()\n",
        "train_masks_encoded = labelencoder.fit_transform(train_masks_reshaped)\n",
        "train_masks_ = train_masks_encoded.reshape(n, h, w)"
      ],
      "metadata": {
        "id": "l_ECEN-N-ZYU"
      },
      "execution_count": 4,
      "outputs": []
    },
    {
      "cell_type": "code",
      "source": [
        "train_masks_input = np.expand_dims(train_masks_, axis=3)"
      ],
      "metadata": {
        "id": "J7en2oSX-ZbA"
      },
      "execution_count": 5,
      "outputs": []
    },
    {
      "cell_type": "code",
      "source": [
        "from sklearn.model_selection import train_test_split\n",
        "X_train, X_test, y_train, y_test = train_test_split(train_images, train_masks_input, test_size=0.10, random_state=0)"
      ],
      "metadata": {
        "id": "FJFS7OfM-Zdy"
      },
      "execution_count": 6,
      "outputs": []
    },
    {
      "cell_type": "code",
      "source": [
        "from tensorflow.keras.utils import to_categorical \n",
        "\n",
        "y_train_cat = to_categorical(y_train, n_classes)\n",
        "y_test_cat = to_categorical(y_test, n_classes)"
      ],
      "metadata": {
        "id": "ZSeUdJY5-Zg5"
      },
      "execution_count": 7,
      "outputs": []
    },
    {
      "cell_type": "code",
      "source": [
        "optimizer = tf.keras.optimizers.Adam(learning_rate = 0.0001)\n",
        "\n",
        "dice_loss = sm.losses.DiceLoss()\n",
        "#focal_loss = sm.losses.FocalLoss()\n",
        "total_loss = dice_loss \n",
        "\n",
        "metrics = [sm.metrics.IOUScore(threshold=0.5), sm.metrics.FScore(threshold=0.5)]"
      ],
      "metadata": {
        "id": "h-nxxkQr-ZjM"
      },
      "execution_count": 8,
      "outputs": []
    },
    {
      "cell_type": "code",
      "source": [
        "from sklearn.utils.extmath import softmax\n",
        "model1 = 'resnet34'\n",
        "preprocess_input1 = sm.get_preprocessing(model1)\n",
        "\n",
        "X_train_resnet = preprocess_input1(X_train)\n",
        "X_test_resnet = preprocess_input1(X_test)\n",
        "\n",
        "resnet_model = sm.Unet(model1, encoder_weights='imagenet', activation='softmax', classes=n_classes)\n",
        "\n",
        "resnet_model.compile(optimizer, total_loss, metrics=metrics)\n",
        "resnet_model.summary()"
      ],
      "metadata": {
        "id": "E5SwROmfHES7"
      },
      "execution_count": null,
      "outputs": []
    },
    {
      "cell_type": "code",
      "source": [
        "history_resnet = resnet_model.fit(X_train_resnet, y_train_cat,\n",
        "                                  batch_size=8, epochs=50,\n",
        "                                  verbose=1,\n",
        "                                  validation_data=(X_test_resnet, y_test_cat))\n",
        "\n",
        "resnet_model.save('/content/drive/MyDrive/ColabNotebooks/deep learning /Object_Segmentation/h5_files/resnet_sm_backbone.hdf5')"
      ],
      "metadata": {
        "id": "vy8CB5WjHGBy"
      },
      "execution_count": null,
      "outputs": []
    },
    {
      "cell_type": "code",
      "source": [
        "loss = history_resnet.history['loss']\n",
        "val_loss = history_resnet.history['val_loss']\n",
        "epochs = range(1, len(loss)+1)\n",
        "\n",
        "plt.plot(epochs, loss, 'y', label='Training loss')\n",
        "plt.plot(epochs, val_loss, 'r', label='Validation loss')\n",
        "plt.title('Training and validation loss')\n",
        "plt.xlabel('Epochs')\n",
        "plt.ylabel('Loss')\n",
        "plt.legend()\n",
        "plt.show()\n",
        "\n",
        "acc = history_resnet.history['iou_score']\n",
        "val_acc = history_resnet.history['val_iou_score']\n",
        "\n",
        "plt.plot(epochs, acc, 'y', label='Training IOU')\n",
        "plt.plot(epochs, val_acc, 'r', label='Validation IOU')\n",
        "plt.title('Training and validation IOU')\n",
        "plt.xlabel('Epochs')\n",
        "plt.ylabel('IOU')\n",
        "plt.legend()\n",
        "plt.show()"
      ],
      "metadata": {
        "colab": {
          "base_uri": "https://localhost:8080/",
          "height": 573
        },
        "id": "C6WK6ZQiLp5Q",
        "outputId": "74722131-43ef-4180-eb2c-9fcf789eca1e"
      },
      "execution_count": 12,
      "outputs": [
        {
          "output_type": "display_data",
          "data": {
            "image/png": "[encoded data removed]",
            "text/plain": [
              "<Figure size 432x288 with 1 Axes>"
            ]
          },
          "metadata": {
            "needs_background": "light"
          }
        },
        {
          "output_type": "display_data",
          "data": {
            "image/png": "[encoded data removed]",
            "text/plain": [
              "<Figure size 432x288 with 1 Axes>"
            ]
          },
          "metadata": {
            "needs_background": "light"
          }
        }
      ]
    },
    {
      "cell_type": "code",
      "source": [
        "y_pred = resnet_model.evaluate(X_test_resnet, y_test_cat)\n",
        "print('iou_score on test_set is {}' .format(y_pred[1]))"
      ],
      "metadata": {
        "colab": {
          "base_uri": "https://localhost:8080/"
        },
        "id": "d99Rbji1Td7Y",
        "outputId": "e88ae892-8613-42c2-88a8-662ac608eab8"
      },
      "execution_count": 19,
      "outputs": [
        {
          "output_type": "stream",
          "name": "stdout",
          "text": [
            "5/5 [==============================] - 1s 140ms/step - loss: 0.0479 - iou_score: 0.9140 - f1-score: 0.9537\n",
            "iou_score on test_set is 0.9140283465385437\n"
          ]
        }
      ]
    },
    {
      "cell_type": "code",
      "source": [
        ""
      ],
      "metadata": {
        "id": "ok2yaHCiT1Ji"
      },
      "execution_count": null,
      "outputs": []
    }
  ]
}