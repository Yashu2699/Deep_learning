{
  "cells": [
    {
      "cell_type": "markdown",
      "metadata": {
        "id": "view-in-github",
        "colab_type": "text"
      },
      "source": [
        "<a href=\"https://colab.research.google.com/github/Yashu2699/Deep_learning/blob/main/Semantic_seg/images_to_patches_using_patchify.ipynb\" target=\"_parent\"><img src=\"https://colab.research.google.com/assets/colab-badge.svg\" alt=\"Open In Colab\"/></a>"
      ]
    },
    {
      "cell_type": "code",
      "execution_count": null,
      "id": "a305442a",
      "metadata": {
        "id": "a305442a"
      },
      "outputs": [],
      "source": [
        "import numpy as np\n",
        "from matplotlib import pyplot as plt\n",
        "from patchify import patchify\n",
        "import tifffile as tiff"
      ]
    },
    {
      "cell_type": "code",
      "execution_count": null,
      "id": "a625c306",
      "metadata": {
        "id": "a625c306"
      },
      "outputs": [],
      "source": [
        "image_file = tiff.imread('training.tif')\n",
        "image_mask = tiff.imread('training_groundtruth.tif')\n",
        "test_file = tiff.imread('testing.tif')\n",
        "test_mask = tiff.imread('testing_groundtruth.tif')"
      ]
    },
    {
      "cell_type": "code",
      "execution_count": null,
      "id": "edcf566f",
      "metadata": {
        "id": "edcf566f",
        "outputId": "843af1e4-2690-41bd-cd7e-ca98117cd5f7"
      },
      "outputs": [
        {
          "data": {
            "text/plain": [
              "(165, 768, 1024)"
            ]
          },
          "execution_count": 4,
          "metadata": {},
          "output_type": "execute_result"
        }
      ],
      "source": [
        "image_file.shape"
      ]
    },
    {
      "cell_type": "code",
      "execution_count": null,
      "id": "f3546e9e",
      "metadata": {
        "id": "f3546e9e"
      },
      "outputs": [],
      "source": [
        "for img in range(image_file.shape[0]):\n",
        "    sub_image = image_file[img]\n",
        "    patch_img = patchify(sub_image, (256,256), step=256) #generates (256,256) sub patches\n",
        "    \n",
        "    for i in range(patch_img.shape[0]):\n",
        "        for j in range(patch_img.shape[1]):\n",
        "            single_img = patch_img[i, j, :, :]\n",
        "            tiff.imwrite('patches/images' + 'image_' + str(img) + '_' + str(i) + str(j) + \".tif\", single_img)"
      ]
    },
    {
      "cell_type": "code",
      "execution_count": null,
      "id": "4b667827",
      "metadata": {
        "id": "4b667827"
      },
      "outputs": [],
      "source": [
        "for img in range(image_mask.shape[0]):\n",
        "    sub_image = image_mask[img]\n",
        "    patch_img = patchify(sub_image, (256,256), step=256) #generates (256,256) sub patches\n",
        "    \n",
        "    for i in range(patch_img.shape[0]):\n",
        "        for j in range(patch_img.shape[1]):\n",
        "            single_img = patch_img[i, j, :, :]\n",
        "            tiff.imwrite('patches/masks/' + 'mask_' + str(img) + '_' + str(i) + str(j) + \".tif\", single_img)"
      ]
    },
    {
      "cell_type": "code",
      "execution_count": null,
      "id": "2c386200",
      "metadata": {
        "id": "2c386200"
      },
      "outputs": [],
      "source": [
        "for img in range(test_file.shape[0]):\n",
        "    sub_image = test_file[img]\n",
        "    patch_img = patchify(sub_image, (256,256), step=256) #generates (256,256) sub patches\n",
        "    \n",
        "    for i in range(patch_img.shape[0]):\n",
        "        for j in range(patch_img.shape[1]):\n",
        "            single_img = patch_img[i, j, :, :]\n",
        "            tiff.imwrite('patches/test_images/' + 'test_image_' + str(img) + '_' + str(i) + str(j) + \".tif\", single_img)"
      ]
    },
    {
      "cell_type": "code",
      "execution_count": null,
      "id": "22ebdd58",
      "metadata": {
        "id": "22ebdd58"
      },
      "outputs": [],
      "source": [
        "for img in range(test_mask.shape[0]):\n",
        "    sub_image = test_mask[img]\n",
        "    patch_img = patchify(sub_image, (256,256), step=256) #generates (256,256) sub patches\n",
        "    \n",
        "    for i in range(patch_img.shape[0]):\n",
        "        for j in range(patch_img.shape[1]):\n",
        "            single_img = patch_img[i, j, :, :]\n",
        "            tiff.imwrite('patches/test_masks/' + 'test_mask_' + str(img) + '_' + str(i) + str(j) + \".tif\", single_img)"
      ]
    }
  ],
  "metadata": {
    "kernelspec": {
      "display_name": "Python 3 (ipykernel)",
      "language": "python",
      "name": "python3"
    },
    "language_info": {
      "codemirror_mode": {
        "name": "ipython",
        "version": 3
      },
      "file_extension": ".py",
      "mimetype": "text/x-python",
      "name": "python",
      "nbconvert_exporter": "python",
      "pygments_lexer": "ipython3",
      "version": "3.9.7"
    },
    "colab": {
      "name": "images_to_patches_using_patchify.ipynb",
      "provenance": [],
      "include_colab_link": true
    }
  },
  "nbformat": 4,
  "nbformat_minor": 5
}