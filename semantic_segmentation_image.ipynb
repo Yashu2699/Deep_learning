{
 "cells": [
  {
   "cell_type": "code",
   "execution_count": 1,
   "id": "54960e4a",
   "metadata": {},
   "outputs": [],
   "source": [
    "import numpy as np\n",
    "import argparse\n",
    "import imutils\n",
    "import time \n",
    "import cv2\n",
    "import os"
   ]
  },
  {
   "cell_type": "code",
   "execution_count": 43,
   "id": "66019731",
   "metadata": {},
   "outputs": [],
   "source": [
    "start = time.time()\n",
    "set_width = int(600)\n",
    "normalize_image = 1/255.0\n",
    "resize_image_shape = (1024, 512)\n",
    "sample_img = cv2.imread('images/example_02.jpg')\n",
    "sample_img = imutils.resize(sample_img, width=set_width)\n",
    "blob_img = cv2.dnn.blobFromImage(sample_img, normalize_image, resize_image_shape, 0, swapRB=True, crop=False)"
   ]
  },
  {
   "cell_type": "code",
   "execution_count": 40,
   "id": "1de1c93d",
   "metadata": {},
   "outputs": [
    {
     "data": {
      "text/plain": [
       "array([[[[0.08627451, 0.09019608, 0.09411766, ..., 0.36078432,\n",
       "          0.2901961 , 0.24705884],\n",
       "         [0.09411766, 0.09803922, 0.10196079, ..., 0.37254903,\n",
       "          0.32941177, 0.30588236],\n",
       "         [0.10588236, 0.10980393, 0.1137255 , ..., 0.38823533,\n",
       "          0.3921569 , 0.3921569 ],\n",
       "         ...,\n",
       "         [0.15686275, 0.15686275, 0.15686275, ..., 0.10588236,\n",
       "          0.10588236, 0.10588236],\n",
       "         [0.15686275, 0.15686275, 0.15686275, ..., 0.10980393,\n",
       "          0.10980393, 0.10980393],\n",
       "         [0.16078432, 0.16078432, 0.16078432, ..., 0.1137255 ,\n",
       "          0.1137255 , 0.1137255 ]],\n",
       "\n",
       "        [[0.10588236, 0.10980393, 0.1137255 , ..., 0.39607847,\n",
       "          0.3254902 , 0.2784314 ],\n",
       "         [0.11764707, 0.11764707, 0.12156864, ..., 0.4039216 ,\n",
       "          0.3647059 , 0.3372549 ],\n",
       "         [0.13333334, 0.13333334, 0.13725491, ..., 0.42352945,\n",
       "          0.42352945, 0.42352945],\n",
       "         ...,\n",
       "         [0.18431373, 0.18431373, 0.18431373, ..., 0.13333334,\n",
       "          0.13333334, 0.13333334],\n",
       "         [0.18823531, 0.18823531, 0.18823531, ..., 0.13725491,\n",
       "          0.13725491, 0.13725491],\n",
       "         [0.18823531, 0.18823531, 0.18823531, ..., 0.14117648,\n",
       "          0.14117648, 0.14117648]],\n",
       "\n",
       "        [[0.07843138, 0.08235294, 0.08627451, ..., 0.27450982,\n",
       "          0.20392159, 0.15686275],\n",
       "         [0.08627451, 0.09019608, 0.09411766, ..., 0.28235295,\n",
       "          0.24313727, 0.21568629],\n",
       "         [0.10196079, 0.10196079, 0.10588236, ..., 0.3019608 ,\n",
       "          0.3019608 , 0.3019608 ],\n",
       "         ...,\n",
       "         [0.15294118, 0.15294118, 0.15294118, ..., 0.10588236,\n",
       "          0.10588236, 0.10588236],\n",
       "         [0.15686275, 0.15686275, 0.15686275, ..., 0.10980393,\n",
       "          0.10980393, 0.10980393],\n",
       "         [0.15686275, 0.15686275, 0.15686275, ..., 0.1137255 ,\n",
       "          0.1137255 , 0.1137255 ]]]], dtype=float32)"
      ]
     },
     "execution_count": 40,
     "metadata": {},
     "output_type": "execute_result"
    }
   ],
   "source": [
    "blob_img"
   ]
  },
  {
   "cell_type": "code",
   "execution_count": 8,
   "id": "bf83af00",
   "metadata": {},
   "outputs": [],
   "source": [
    "cv_enet_model = cv2.dnn.readNet('enet-cityscapes/enet-model.net')"
   ]
  },
  {
   "cell_type": "code",
   "execution_count": 9,
   "id": "407c0c36",
   "metadata": {},
   "outputs": [],
   "source": [
    "cv_enet_model.setInput(blob_img)\n",
    "cv_enet_model_output = cv_enet_model.forward()"
   ]
  },
  {
   "cell_type": "code",
   "execution_count": 23,
   "id": "403a065a",
   "metadata": {},
   "outputs": [
    {
     "data": {
      "text/plain": [
       "array([[[[ 17.1363    ,  16.169312  ,  15.809857  , ...,  14.722057  ,\n",
       "           18.384853  ,  17.529884  ],\n",
       "         [ 14.830452  ,  13.804759  ,  14.445477  , ...,  13.353924  ,\n",
       "           15.604312  ,  14.68977   ],\n",
       "         [ 14.334621  ,  13.701331  ,  12.966048  , ...,  10.341312  ,\n",
       "           15.920379  ,  15.238231  ],\n",
       "         ...,\n",
       "         [ 11.649584  ,  11.142058  ,   9.087632  , ...,   7.5810723 ,\n",
       "           12.768024  ,  12.270065  ],\n",
       "         [ 15.774449  ,  15.254591  ,  14.566139  , ...,  12.504254  ,\n",
       "           16.352144  ,  15.88004   ],\n",
       "         [ 14.537771  ,  14.002248  ,  13.6159725 , ...,  11.7295265 ,\n",
       "           15.450281  ,  14.963059  ]],\n",
       "\n",
       "        [[ -0.1977467 ,  -0.04956543,  -3.7981994 , ...,  -4.1091566 ,\n",
       "           -1.9681611 ,  -1.8183802 ],\n",
       "         [ -2.4890144 ,  -2.3874354 ,  -6.114351  , ...,  -6.4821067 ,\n",
       "           -4.392799  ,  -4.232411  ],\n",
       "         [ -0.95446354,  -0.90588194,  -4.736053  , ...,  -6.604812  ,\n",
       "           -4.0999784 ,  -4.132303  ],\n",
       "         ...,\n",
       "         [  1.022824  ,   0.98763925,   0.6370806 , ...,   5.526605  ,\n",
       "            2.210712  ,   2.1237082 ],\n",
       "         [  1.4948709 ,   1.4098485 ,   1.5165182 , ...,   3.3659112 ,\n",
       "            2.1977708 ,   2.0491302 ],\n",
       "         [ -0.5393888 ,  -0.6822225 ,  -0.4232966 , ...,   1.8313789 ,\n",
       "            0.2456103 ,   0.03051877]],\n",
       "\n",
       "        [[  3.221235  ,   3.0677488 ,   0.31231332, ...,  -0.12099496,\n",
       "            2.222362  ,   2.0851529 ],\n",
       "         [  2.1005147 ,   1.9521973 ,  -0.7201021 , ...,  -0.86842334,\n",
       "            1.0519648 ,   0.9757037 ],\n",
       "         [  0.72142136,   0.54576343,  -3.8481438 , ...,  -3.0606682 ,\n",
       "            0.26072732,   0.07607934],\n",
       "         ...,\n",
       "         [  1.7221515 ,   1.6004664 ,   0.08153179, ...,   3.5068493 ,\n",
       "            3.5573049 ,   3.4271297 ],\n",
       "         [  3.2964633 ,   3.1686502 ,   2.374696  , ...,   3.9595754 ,\n",
       "            4.0874553 ,   3.930302  ],\n",
       "         [  2.4573495 ,   2.331085  ,   1.613395  , ...,   3.3180707 ,\n",
       "            3.2769272 ,   3.1364062 ]],\n",
       "\n",
       "        ...,\n",
       "\n",
       "        [[ -6.3927283 ,  -6.373962  ,  -7.6304626 , ...,  -5.832143  ,\n",
       "           -6.4486976 ,  -6.450646  ],\n",
       "         [ -6.2762218 ,  -6.351115  ,  -7.665609  , ...,  -5.834604  ,\n",
       "           -6.316361  ,  -6.482988  ],\n",
       "         [ -4.5976887 ,  -4.666283  ,  -4.9235616 , ...,  -2.5684853 ,\n",
       "           -4.6470046 ,  -4.6608386 ],\n",
       "         ...,\n",
       "         [ -2.3006928 ,  -2.319729  ,  -1.9699135 , ...,  -1.4561046 ,\n",
       "           -3.5374632 ,  -3.5746245 ],\n",
       "         [ -3.7001233 ,  -3.6959298 ,  -3.118983  , ...,  -2.83915   ,\n",
       "           -4.236116  ,  -4.2566175 ],\n",
       "         [ -3.647513  ,  -3.669656  ,  -3.105834  , ...,  -2.824113  ,\n",
       "           -4.2184234 ,  -4.2451715 ]],\n",
       "\n",
       "        [[-11.981967  , -12.015407  , -11.113351  , ..., -11.602101  ,\n",
       "          -12.857468  , -12.928637  ],\n",
       "         [-12.260528  , -12.21073   , -11.392715  , ..., -11.766777  ,\n",
       "          -13.183801  , -13.146385  ],\n",
       "         [-10.924359  , -11.011225  ,  -9.89174   , ...,  -9.520011  ,\n",
       "          -11.287402  , -11.326246  ],\n",
       "         ...,\n",
       "         [ -9.8684225 ,  -9.842698  ,  -7.5162535 , ...,  -5.7238717 ,\n",
       "           -9.711641  ,  -9.689665  ],\n",
       "         [-11.051107  , -11.058263  ,  -9.700904  , ...,  -9.153863  ,\n",
       "          -11.093289  , -11.094888  ],\n",
       "         [-11.2588625 , -11.223412  ,  -9.848222  , ...,  -9.281787  ,\n",
       "          -11.312749  , -11.274839  ]],\n",
       "\n",
       "        [[-10.683141  , -10.788273  , -11.081387  , ..., -11.186285  ,\n",
       "          -12.946794  , -13.071526  ],\n",
       "         [-10.713046  , -10.780726  , -11.104136  , ..., -11.171175  ,\n",
       "          -12.9955635 , -13.054072  ],\n",
       "         [ -9.760086  ,  -9.910701  ,  -9.642365  , ...,  -8.174826  ,\n",
       "          -11.476866  , -11.600531  ],\n",
       "         ...,\n",
       "         [ -9.743117  ,  -9.7928095 ,  -8.109612  , ...,  -5.0080447 ,\n",
       "           -9.865121  ,  -9.915076  ],\n",
       "         [-11.632286  , -11.709747  , -10.7048235 , ...,  -9.403528  ,\n",
       "          -11.796875  , -11.873463  ],\n",
       "         [-11.63141   , -11.688025  , -10.656342  , ...,  -9.384306  ,\n",
       "          -11.797243  , -11.863186  ]]]], dtype=float32)"
      ]
     },
     "execution_count": 23,
     "metadata": {},
     "output_type": "execute_result"
    }
   ],
   "source": [
    "cv_enet_model_output"
   ]
  },
  {
   "cell_type": "code",
   "execution_count": 10,
   "id": "ae7d77e4",
   "metadata": {},
   "outputs": [],
   "source": [
    "label_values = open('enet-cityscapes/enet-classes.txt').read().strip().split(\"\\n\")"
   ]
  },
  {
   "cell_type": "code",
   "execution_count": 12,
   "id": "de23af8f",
   "metadata": {},
   "outputs": [],
   "source": [
    "classes_num, h, w = cv_enet_model_output.shape[1:4]"
   ]
  },
  {
   "cell_type": "code",
   "execution_count": 13,
   "id": "4d847b4c",
   "metadata": {},
   "outputs": [],
   "source": [
    "class_map = np.argmax(cv_enet_model_output[0], axis=0)"
   ]
  },
  {
   "cell_type": "code",
   "execution_count": 24,
   "id": "0a6800ad",
   "metadata": {},
   "outputs": [
    {
     "data": {
      "text/plain": [
       "array([[0, 0, 0, ..., 0, 0, 0],\n",
       "       [0, 0, 0, ..., 0, 0, 0],\n",
       "       [0, 0, 0, ..., 0, 0, 0],\n",
       "       ...,\n",
       "       [0, 0, 0, ..., 0, 0, 0],\n",
       "       [0, 0, 0, ..., 0, 0, 0],\n",
       "       [0, 0, 0, ..., 0, 0, 0]], dtype=int64)"
      ]
     },
     "execution_count": 24,
     "metadata": {},
     "output_type": "execute_result"
    }
   ],
   "source": [
    "class_map"
   ]
  },
  {
   "cell_type": "code",
   "execution_count": 18,
   "id": "80472d8a",
   "metadata": {},
   "outputs": [],
   "source": [
    "import os\n",
    "if os.path.isfile('enet-cityscapes/enet-colors.txt'):\n",
    "    cv_enet_shape_img_colors = open('enet-cityscapes/enet-colors.txt').read().strip().split(\"\\n\")\n",
    "    cv_enet_shape_img_colors = [np.array(c.split(\",\")).astype(\"int\") for c in cv_enet_shape_img_colors]\n",
    "    cv_enet_shape_img_colors = np.array(cv_enet_shape_img_colors)\n",
    "else:\n",
    "    np.random.seed(42)\n",
    "    cv_enet_shape_img_colors = np.random.ranint(0, 255, size=(len(label_values) -1,3),dtype=\"unit8\")\n",
    "    cv_enet_shape_img_colors = np.vstack([[0,0,0], cv_enet_shape_img_colors]).astype(\"unit8\")"
   ]
  },
  {
   "cell_type": "code",
   "execution_count": 25,
   "id": "cb3f52f0",
   "metadata": {},
   "outputs": [],
   "source": [
    "mask_class_map = cv_enet_shape_img_colors[class_map]"
   ]
  },
  {
   "cell_type": "code",
   "execution_count": 26,
   "id": "badac752",
   "metadata": {},
   "outputs": [],
   "source": [
    "mask_class_map = cv2.resize(mask_class_map, (sample_img.shape[1], sample_img.shape[0]), interpolation=cv2.INTER_NEAREST)\n",
    "class_map = cv2.resize(class_map, (sample_img.shape[1], sample_img.shape[0]), interpolation=cv2.INTER_NEAREST)"
   ]
  },
  {
   "cell_type": "code",
   "execution_count": 27,
   "id": "0fee0a8f",
   "metadata": {},
   "outputs": [
    {
     "data": {
      "text/plain": [
       "array([[[0, 0, 0],\n",
       "        [0, 0, 0],\n",
       "        [0, 0, 0],\n",
       "        ...,\n",
       "        [0, 0, 0],\n",
       "        [0, 0, 0],\n",
       "        [0, 0, 0]],\n",
       "\n",
       "       [[0, 0, 0],\n",
       "        [0, 0, 0],\n",
       "        [0, 0, 0],\n",
       "        ...,\n",
       "        [0, 0, 0],\n",
       "        [0, 0, 0],\n",
       "        [0, 0, 0]],\n",
       "\n",
       "       [[0, 0, 0],\n",
       "        [0, 0, 0],\n",
       "        [0, 0, 0],\n",
       "        ...,\n",
       "        [0, 0, 0],\n",
       "        [0, 0, 0],\n",
       "        [0, 0, 0]],\n",
       "\n",
       "       ...,\n",
       "\n",
       "       [[0, 0, 0],\n",
       "        [0, 0, 0],\n",
       "        [0, 0, 0],\n",
       "        ...,\n",
       "        [0, 0, 0],\n",
       "        [0, 0, 0],\n",
       "        [0, 0, 0]],\n",
       "\n",
       "       [[0, 0, 0],\n",
       "        [0, 0, 0],\n",
       "        [0, 0, 0],\n",
       "        ...,\n",
       "        [0, 0, 0],\n",
       "        [0, 0, 0],\n",
       "        [0, 0, 0]],\n",
       "\n",
       "       [[0, 0, 0],\n",
       "        [0, 0, 0],\n",
       "        [0, 0, 0],\n",
       "        ...,\n",
       "        [0, 0, 0],\n",
       "        [0, 0, 0],\n",
       "        [0, 0, 0]]], dtype=int32)"
      ]
     },
     "execution_count": 27,
     "metadata": {},
     "output_type": "execute_result"
    }
   ],
   "source": [
    "mask_class_map"
   ]
  },
  {
   "cell_type": "code",
   "execution_count": 28,
   "id": "efd3c971",
   "metadata": {},
   "outputs": [
    {
     "data": {
      "text/plain": [
       "array([[0, 0, 0, ..., 0, 0, 0],\n",
       "       [0, 0, 0, ..., 0, 0, 0],\n",
       "       [0, 0, 0, ..., 0, 0, 0],\n",
       "       ...,\n",
       "       [0, 0, 0, ..., 0, 0, 0],\n",
       "       [0, 0, 0, ..., 0, 0, 0],\n",
       "       [0, 0, 0, ..., 0, 0, 0]], dtype=int32)"
      ]
     },
     "execution_count": 28,
     "metadata": {},
     "output_type": "execute_result"
    }
   ],
   "source": [
    "class_map"
   ]
  },
  {
   "cell_type": "code",
   "execution_count": 30,
   "id": "f273321e",
   "metadata": {},
   "outputs": [],
   "source": [
    "cv_enet_model_output = ((0.4*sample_img)+(0.6*mask_class_map))"
   ]
  },
  {
   "cell_type": "code",
   "execution_count": 31,
   "id": "afdd9188",
   "metadata": {},
   "outputs": [
    {
     "data": {
      "text/plain": [
       "array([[[ 8. , 10.8,  8.8],\n",
       "        [ 8.8, 11.6,  9.6],\n",
       "        [ 9.6, 12.4, 10.4],\n",
       "        ...,\n",
       "        [34. , 45.6, 41.6],\n",
       "        [28.4, 40.8, 37.2],\n",
       "        [16. , 28.4, 25.2]],\n",
       "\n",
       "       [[10.4, 13.6, 10.8],\n",
       "        [10.8, 14. , 11.6],\n",
       "        [11.6, 14.8, 12. ],\n",
       "        ...,\n",
       "        [34.8, 46.8, 42.4],\n",
       "        [30.8, 43.2, 39.6],\n",
       "        [31.6, 44. , 40.8]],\n",
       "\n",
       "       [[13.2, 16.8, 13.2],\n",
       "        [12.4, 16. , 12.4],\n",
       "        [12.8, 16.4, 12.8],\n",
       "        ...,\n",
       "        [35.2, 47.2, 42.8],\n",
       "        [34.8, 47.2, 43.6],\n",
       "        [34.8, 47.2, 44. ]],\n",
       "\n",
       "       ...,\n",
       "\n",
       "       [[15.6, 18.8, 16. ],\n",
       "        [15.6, 18.8, 16. ],\n",
       "        [15.6, 18.8, 16. ],\n",
       "        ...,\n",
       "        [11.6, 14.4, 11.6],\n",
       "        [11.2, 14. , 11.2],\n",
       "        [11.2, 14. , 11.2]],\n",
       "\n",
       "       [[15.6, 18.8, 16. ],\n",
       "        [15.6, 18.8, 16. ],\n",
       "        [15.6, 18.8, 16. ],\n",
       "        ...,\n",
       "        [11.2, 14. , 11.2],\n",
       "        [10.8, 13.6, 10.8],\n",
       "        [10.8, 13.6, 10.8]],\n",
       "\n",
       "       [[16. , 19.2, 16.4],\n",
       "        [16. , 19.2, 16.4],\n",
       "        [16. , 19.2, 16.4],\n",
       "        ...,\n",
       "        [12. , 14.8, 12. ],\n",
       "        [11.6, 14.4, 11.6],\n",
       "        [11.6, 14.4, 11.6]]])"
      ]
     },
     "execution_count": 31,
     "metadata": {},
     "output_type": "execute_result"
    }
   ],
   "source": [
    "cv_enet_model_output"
   ]
  },
  {
   "cell_type": "code",
   "execution_count": 32,
   "id": "4543d19d",
   "metadata": {},
   "outputs": [],
   "source": [
    "my_legend = np.zeros(((len(label_values)*25)+25,300,3))"
   ]
  },
  {
   "cell_type": "code",
   "execution_count": 46,
   "id": "a870ecc8",
   "metadata": {},
   "outputs": [],
   "source": [
    "for (i, (class_name, img_color)) in enumerate(zip(label_values, cv_enet_shape_img_colors)):\n",
    "    # draw the class name + color on the legend\n",
    "    color_info = [int(color) for color in img_color]\n",
    "    cv2.putText(my_legend, class_name, (5, (i * 25) + 17),\n",
    "                cv2.FONT_HERSHEY_SIMPLEX, 0.5, (0, 0, 255), 2)\n",
    "    cv2.rectangle(my_legend, (100, (i * 25)), (300, (i * 25) + 25),\n",
    "                  tuple(color_info), -1)\n",
    "cv2.imshow(\"My_Legend\", my_legend)\n",
    "cv2.imshow(\"Img_Input\", sample_img)\n",
    "cv2.imshow(\"CV_Model_Output\", cv_enet_model_output)\n",
    "cv2.waitKey(0)\n",
    "cv2.destroyAllWindows()\n",
    "\n",
    "end = time.time()\n"
   ]
  },
  {
   "cell_type": "code",
   "execution_count": null,
   "id": "0fc2e59b",
   "metadata": {},
   "outputs": [],
   "source": []
  }
 ],
 "metadata": {
  "kernelspec": {
   "display_name": "Python 3",
   "language": "python",
   "name": "python3"
  },
  "language_info": {
   "codemirror_mode": {
    "name": "ipython",
    "version": 3
   },
   "file_extension": ".py",
   "mimetype": "text/x-python",
   "name": "python",
   "nbconvert_exporter": "python",
   "pygments_lexer": "ipython3",
   "version": "3.9.7"
  }
 },
 "nbformat": 4,
 "nbformat_minor": 5
}
