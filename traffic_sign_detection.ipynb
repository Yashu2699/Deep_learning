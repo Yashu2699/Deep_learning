{
 "cells": [
  {
   "cell_type": "code",
   "execution_count": 1,
   "id": "a59effc7",
   "metadata": {},
   "outputs": [],
   "source": [
    "import warnings\n",
    "warnings.filterwarnings(\"ignore\")"
   ]
  },
  {
   "cell_type": "code",
   "execution_count": 32,
   "id": "9c3a91db",
   "metadata": {},
   "outputs": [],
   "source": [
    "import pickle\n",
    "import pandas as pd\n",
    "import numpy as np\n",
    "import matplotlib.pyplot as plt\n",
    "%matplotlib inline\n",
    "import random"
   ]
  },
  {
   "cell_type": "code",
   "execution_count": 8,
   "id": "fadc8b0a",
   "metadata": {},
   "outputs": [],
   "source": [
    "with open(\"C:/Users/yash/Applied-Deep-Learning-and-Computer-Vision-for-Self-Driving-Cars-master/Applied-Deep-Learning-and-Computer-Vision-for-Self-Driving-Cars-master/Chapter07/traffic-signs-data/train.p\", mode='rb') as training_data:\n",
    "  train = pickle.load(training_data)\n",
    "with open(\"C:/Users/yash/Applied-Deep-Learning-and-Computer-Vision-for-Self-Driving-Cars-master/Applied-Deep-Learning-and-Computer-Vision-for-Self-Driving-Cars-master/Chapter07/traffic-signs-data/valid.p\", mode='rb') as validation_data:\n",
    "  valid = pickle.load(validation_data)\n",
    "with open(\"C:/Users/yash/Applied-Deep-Learning-and-Computer-Vision-for-Self-Driving-Cars-master/Applied-Deep-Learning-and-Computer-Vision-for-Self-Driving-Cars-master/Chapter07/traffic-signs-data/test.p\", mode='rb') as testing_data:\n",
    "  test = pickle.load(testing_data)"
   ]
  },
  {
   "cell_type": "code",
   "execution_count": 9,
   "id": "d0f49908",
   "metadata": {},
   "outputs": [
    {
     "data": {
      "text/plain": [
       "(34799, 32, 32, 3)"
      ]
     },
     "execution_count": 9,
     "metadata": {},
     "output_type": "execute_result"
    }
   ],
   "source": [
    "x_train, y_train = train['features'], train['labels']\n",
    "x_valid, y_valid = valid['features'], valid['labels']\n",
    "x_test, y_test = test['features'], test['labels']\n",
    "x_train.shape"
   ]
  },
  {
   "cell_type": "code",
   "execution_count": 10,
   "id": "6f20294b",
   "metadata": {},
   "outputs": [
    {
     "data": {
      "text/plain": [
       "<matplotlib.image.AxesImage at 0x2641f519b80>"
      ]
     },
     "execution_count": 10,
     "metadata": {},
     "output_type": "execute_result"
    },
    {
     "data": {
      "image/png": "[encoded data removed]",
      "text/plain": [
       "<Figure size 432x288 with 1 Axes>"
      ]
     },
     "metadata": {
      "needs_background": "light"
     },
     "output_type": "display_data"
    }
   ],
   "source": [
    "plt.imshow(x_train[0])"
   ]
  },
  {
   "cell_type": "code",
   "execution_count": 11,
   "id": "8fbd8d03",
   "metadata": {},
   "outputs": [],
   "source": [
    "from sklearn.utils import shuffle\n",
    "x_train, y_train = shuffle(x_train, y_train)"
   ]
  },
  {
   "cell_type": "code",
   "execution_count": 12,
   "id": "5da616bb",
   "metadata": {},
   "outputs": [],
   "source": [
    "x_train_gray = np.sum(x_train/3, axis=3, keepdims=True)\n",
    "x_valid_gray = np.sum(x_valid/3, axis=3, keepdims=True)\n",
    "x_test_gray = np.sum(x_test/3, axis=3, keepdims=True)"
   ]
  },
  {
   "cell_type": "code",
   "execution_count": 13,
   "id": "d06624ce",
   "metadata": {},
   "outputs": [],
   "source": [
    "x_train_gray_norm = (x_train_gray - 128) / 128\n",
    "x_valid_gray_norm = (x_valid_gray - 128) / 128\n",
    "x_test_gray_norm = (x_test_gray - 128) / 128"
   ]
  },
  {
   "cell_type": "code",
   "execution_count": 14,
   "id": "39d8613a",
   "metadata": {},
   "outputs": [
    {
     "data": {
      "text/plain": [
       "<matplotlib.image.AxesImage at 0x26421d36880>"
      ]
     },
     "execution_count": 14,
     "metadata": {},
     "output_type": "execute_result"
    },
    {
     "data": {
      "image/png": "[encoded data removed]",
      "text/plain": [
       "<Figure size 432x288 with 1 Axes>"
      ]
     },
     "metadata": {
      "needs_background": "light"
     },
     "output_type": "display_data"
    }
   ],
   "source": [
    "plt.imshow(x_train_gray[0].squeeze(), cmap='gray')"
   ]
  },
  {
   "cell_type": "code",
   "execution_count": 15,
   "id": "792f220d",
   "metadata": {},
   "outputs": [
    {
     "data": {
      "text/plain": [
       "<matplotlib.image.AxesImage at 0x26421da2fd0>"
      ]
     },
     "execution_count": 15,
     "metadata": {},
     "output_type": "execute_result"
    },
    {
     "data": {
      "image/png": "[encoded data removed]",
      "text/plain": [
       "<Figure size 432x288 with 1 Axes>"
      ]
     },
     "metadata": {
      "needs_background": "light"
     },
     "output_type": "display_data"
    }
   ],
   "source": [
    "plt.imshow(x_train_gray_norm[0].squeeze(), cmap='gray')"
   ]
  },
  {
   "cell_type": "code",
   "execution_count": 22,
   "id": "a0d5393d",
   "metadata": {},
   "outputs": [
    {
     "data": {
      "text/plain": [
       "(32, 32, 1)"
      ]
     },
     "execution_count": 22,
     "metadata": {},
     "output_type": "execute_result"
    }
   ],
   "source": [
    "x_train_gray.shape[1:]"
   ]
  },
  {
   "cell_type": "code",
   "execution_count": 19,
   "id": "cfb5e984",
   "metadata": {},
   "outputs": [],
   "source": [
    "import tensorflow as tf\n",
    "from tensorflow import keras\n",
    "from tensorflow.keras import layers\n",
    "from subprocess import check_output\n",
    "from sklearn.model_selection import train_test_split"
   ]
  },
  {
   "cell_type": "code",
   "execution_count": 23,
   "id": "22f992ae",
   "metadata": {},
   "outputs": [
    {
     "name": "stdout",
     "output_type": "stream",
     "text": [
      "Model: \"sequential_1\"\n",
      "_________________________________________________________________\n",
      " Layer (type)                Output Shape              Param #   \n",
      "=================================================================\n",
      " conv2d (Conv2D)             (None, 30, 30, 32)        320       \n",
      "                                                                 \n",
      " conv2d_1 (Conv2D)           (None, 28, 28, 64)        18496     \n",
      "                                                                 \n",
      " max_pooling2d (MaxPooling2D  (None, 14, 14, 64)       0         \n",
      " )                                                               \n",
      "                                                                 \n",
      " dropout (Dropout)           (None, 14, 14, 64)        0         \n",
      "                                                                 \n",
      " flatten (Flatten)           (None, 12544)             0         \n",
      "                                                                 \n",
      " dense (Dense)               (None, 128)               1605760   \n",
      "                                                                 \n",
      " dropout_1 (Dropout)         (None, 128)               0         \n",
      "                                                                 \n",
      " dense_1 (Dense)             (None, 43)                5547      \n",
      "                                                                 \n",
      "=================================================================\n",
      "Total params: 1,630,123\n",
      "Trainable params: 1,630,123\n",
      "Non-trainable params: 0\n",
      "_________________________________________________________________\n"
     ]
    }
   ],
   "source": [
    "image_shape = x_train_gray.shape[1:]\n",
    "model = tf.keras.Sequential()\n",
    "model.add(tf.keras.layers.Conv2D(32,(3,3), input_shape=image_shape, activation='relu'))\n",
    "model.add(tf.keras.layers.Conv2D(64, (3,3), activation='relu'))\n",
    "model.add(tf.keras.layers.MaxPooling2D((2,2)))\n",
    "model.add(tf.keras.layers.Dropout(0.25))\n",
    "model.add(tf.keras.layers.Flatten())\n",
    "model.add(tf.keras.layers.Dense(128, activation='relu'))\n",
    "model.add(tf.keras.layers.Dropout(0.5))\n",
    "model.add(tf.keras.layers.Dense(43, activation='sigmoid'))\n",
    "model.summary()"
   ]
  },
  {
   "cell_type": "code",
   "execution_count": 29,
   "id": "7041fe71",
   "metadata": {},
   "outputs": [],
   "source": [
    "model.compile(loss='sparse_categorical_crossentropy', optimizer=keras.optimizers.Adam(0.001), metrics=['accuracy'])"
   ]
  },
  {
   "cell_type": "code",
   "execution_count": 30,
   "id": "8f83c0e1",
   "metadata": {},
   "outputs": [
    {
     "name": "stdout",
     "output_type": "stream",
     "text": [
      "Epoch 1/5\n",
      "1088/1088 [==============================] - 61s 56ms/step - loss: 0.2408 - accuracy: 0.9263 - val_loss: 0.1531 - val_accuracy: 0.9603\n",
      "Epoch 2/5\n",
      "1088/1088 [==============================] - 64s 59ms/step - loss: 0.1719 - accuracy: 0.9468 - val_loss: 0.1356 - val_accuracy: 0.9619\n",
      "Epoch 3/5\n",
      "1088/1088 [==============================] - 65s 60ms/step - loss: 0.1357 - accuracy: 0.9579 - val_loss: 0.1417 - val_accuracy: 0.9642\n",
      "Epoch 4/5\n",
      "1088/1088 [==============================] - 62s 57ms/step - loss: 0.1168 - accuracy: 0.9631 - val_loss: 0.1163 - val_accuracy: 0.9669\n",
      "Epoch 5/5\n",
      "1088/1088 [==============================] - 62s 57ms/step - loss: 0.0969 - accuracy: 0.9692 - val_loss: 0.1059 - val_accuracy: 0.9717\n"
     ]
    }
   ],
   "source": [
    "hist = model.fit(x_train_gray_norm, y_train, batch_size=32, epochs=5, verbose=1, validation_data=(x_valid_gray_norm, y_valid))"
   ]
  },
  {
   "cell_type": "code",
   "execution_count": 36,
   "id": "2f78c772",
   "metadata": {},
   "outputs": [
    {
     "name": "stdout",
     "output_type": "stream",
     "text": [
      "0.9607284069061279\n",
      "0.17137941718101501\n"
     ]
    }
   ],
   "source": [
    "score = model.evaluate(x_test_gray_norm, y_test, verbose=0)\n",
    "print(score[1])\n",
    "print(score[0])"
   ]
  },
  {
   "cell_type": "code",
   "execution_count": 34,
   "id": "50b2d9f2",
   "metadata": {},
   "outputs": [
    {
     "data": {
      "text/plain": [
       "<Figure size 432x288 with 0 Axes>"
      ]
     },
     "execution_count": 34,
     "metadata": {},
     "output_type": "execute_result"
    },
    {
     "data": {
      "image/png": "[encoded data removed]",
      "text/plain": [
       "<Figure size 432x288 with 1 Axes>"
      ]
     },
     "metadata": {
      "needs_background": "light"
     },
     "output_type": "display_data"
    },
    {
     "data": {
      "text/plain": [
       "<Figure size 432x288 with 0 Axes>"
      ]
     },
     "metadata": {},
     "output_type": "display_data"
    }
   ],
   "source": [
    "accuracy = hist.history['accuracy']\n",
    "val_accuracy = hist.history['val_accuracy']\n",
    "loss = hist.history['loss']\n",
    "val_loss = hist.history['val_loss']\n",
    "epochs = range(len(accuracy))\n",
    "plt.plot(epochs, accuracy, 'bo', label='Training Accuracy')\n",
    "plt.plot(epochs, val_accuracy, 'b', label='Validation Accuracy')\n",
    "plt.title('Training vs Validation Accuracy')\n",
    "plt.legend()\n",
    "plt.figure()"
   ]
  },
  {
   "cell_type": "code",
   "execution_count": 35,
   "id": "39427fd5",
   "metadata": {},
   "outputs": [
    {
     "data": {
      "text/plain": [
       "<Figure size 432x288 with 0 Axes>"
      ]
     },
     "execution_count": 35,
     "metadata": {},
     "output_type": "execute_result"
    },
    {
     "data": {
      "image/png": "[encoded data removed]",
      "text/plain": [
       "<Figure size 432x288 with 1 Axes>"
      ]
     },
     "metadata": {
      "needs_background": "light"
     },
     "output_type": "display_data"
    },
    {
     "data": {
      "text/plain": [
       "<Figure size 432x288 with 0 Axes>"
      ]
     },
     "metadata": {},
     "output_type": "display_data"
    }
   ],
   "source": [
    "plt.plot(epochs, loss, 'bo', label='Training loss')\n",
    "plt.plot(epochs, val_loss, 'b', label='Validation loss')\n",
    "plt.title('training vs validation loss')\n",
    "plt.legend()\n",
    "plt.figure()"
   ]
  },
  {
   "cell_type": "code",
   "execution_count": 37,
   "id": "7e0fd815",
   "metadata": {},
   "outputs": [],
   "source": [
    "model.save(\"trafficsign.h5\")"
   ]
  },
  {
   "cell_type": "code",
   "execution_count": 38,
   "id": "6326488e",
   "metadata": {},
   "outputs": [],
   "source": [
    "model = tf.keras.models.load_model('trafficsign.h5')"
   ]
  },
  {
   "cell_type": "code",
   "execution_count": 43,
   "id": "f525f57f",
   "metadata": {},
   "outputs": [
    {
     "name": "stdout",
     "output_type": "stream",
     "text": [
      "('You must install pydot (`pip install pydot`) and install graphviz (see instructions at https://graphviz.gitlab.io/download/) ', 'for plot_model/model_to_dot to work.')\n"
     ]
    }
   ],
   "source": [
    "from keras.utils.vis_utils import plot_model\n",
    "tf.keras.utils.plot_model(\n",
    "model, to_file='model.png', show_shapes=False, show_dtype=False,\n",
    "show_layer_names=True, rankdir='TB', expand_nested=False, dpi=96\n",
    ")"
   ]
  },
  {
   "cell_type": "code",
   "execution_count": 41,
   "id": "7bc542b6",
   "metadata": {},
   "outputs": [
    {
     "name": "stdout",
     "output_type": "stream",
     "text": [
      "Collecting package metadata (current_repodata.json): ...working... done\n",
      "Note: you may need to restart the kernel to use updated packages.\n",
      "\n",
      "Solving environment: ...working... done\n",
      "\n",
      "## Package Plan ##\n",
      "\n",
      "  environment location: C:\\Users\\yash\\Anaconda3\n",
      "\n",
      "  added / updated specs:\n",
      "    - graphviz\n",
      "\n",
      "\n",
      "The following packages will be downloaded:\n",
      "\n",
      "    package                    |            build\n",
      "    ---------------------------|-----------------\n",
      "    conda-4.11.0               |   py39haa95532_0        14.4 MB\n",
      "    graphviz-2.38              |       hfd603c8_2        29.3 MB\n",
      "    ------------------------------------------------------------\n",
      "                                           Total:        43.7 MB\n",
      "\n",
      "The following NEW packages will be INSTALLED:\n",
      "\n",
      "  graphviz           pkgs/main/win-64::graphviz-2.38-hfd603c8_2\n",
      "\n",
      "The following packages will be UPDATED:\n",
      "\n",
      "  conda                               4.10.3-py39haa95532_0 --> 4.11.0-py39haa95532_0\n",
      "\n",
      "\n",
      "\n",
      "Downloading and Extracting Packages\n",
      "\n",
      "conda-4.11.0         | 14.4 MB   |            |   0% \n",
      "conda-4.11.0         | 14.4 MB   |            |   0% \n",
      "conda-4.11.0         | 14.4 MB   | 7          |   7% \n",
      "conda-4.11.0         | 14.4 MB   | ##2        |  22% \n",
      "conda-4.11.0         | 14.4 MB   | ####2      |  43% \n",
      "conda-4.11.0         | 14.4 MB   | ######2    |  62% \n",
      "conda-4.11.0         | 14.4 MB   | ########1  |  82% \n",
      "conda-4.11.0         | 14.4 MB   | ########## | 100% \n",
      "conda-4.11.0         | 14.4 MB   | ########## | 100% \n",
      "\n",
      "graphviz-2.38        | 29.3 MB   |            |   0% \n",
      "graphviz-2.38        | 29.3 MB   | 4          |   4% \n",
      "graphviz-2.38        | 29.3 MB   | #4         |  14% \n",
      "graphviz-2.38        | 29.3 MB   | ##3        |  24% \n",
      "graphviz-2.38        | 29.3 MB   | ###3       |  33% \n",
      "graphviz-2.38        | 29.3 MB   | ####2      |  43% \n",
      "graphviz-2.38        | 29.3 MB   | #####2     |  53% \n",
      "graphviz-2.38        | 29.3 MB   | ######2    |  62% \n",
      "graphviz-2.38        | 29.3 MB   | #######2   |  72% \n",
      "graphviz-2.38        | 29.3 MB   | ########1  |  81% \n",
      "graphviz-2.38        | 29.3 MB   | #########  |  90% \n",
      "graphviz-2.38        | 29.3 MB   | #########9 |  99% \n",
      "graphviz-2.38        | 29.3 MB   | ########## | 100% \n",
      "Preparing transaction: ...working... done\n",
      "Verifying transaction: ...working... done\n",
      "Executing transaction: ...working... done\n"
     ]
    }
   ],
   "source": [
    "conda install graphviz"
   ]
  },
  {
   "cell_type": "code",
   "execution_count": 42,
   "id": "c646b866",
   "metadata": {},
   "outputs": [
    {
     "name": "stdout",
     "output_type": "stream",
     "text": [
      "Collecting pydot\n",
      "  Downloading pydot-1.4.2-py2.py3-none-any.whl (21 kB)\n",
      "Requirement already satisfied: pyparsing>=2.1.4 in c:\\users\\yash\\anaconda3\\lib\\site-packages (from pydot) (3.0.4)\n",
      "Installing collected packages: pydot\n",
      "Successfully installed pydot-1.4.2\n"
     ]
    }
   ],
   "source": [
    "!pip install pydot"
   ]
  },
  {
   "cell_type": "code",
   "execution_count": 45,
   "id": "437c74da",
   "metadata": {},
   "outputs": [
    {
     "name": "stdout",
     "output_type": "stream",
     "text": [
      "('You must install pydot (`pip install pydot`) and install graphviz (see instructions at https://graphviz.gitlab.io/download/) ', 'for plot_model/model_to_dot to work.')\n"
     ]
    }
   ],
   "source": [
    "from keras.utils.vis_utils import plot_model\n",
    "tf.keras.utils.plot_model(\n",
    "model, to_file='model.png', show_shapes=False, show_dtype=False,\n",
    "show_layer_names=True, rankdir='TB', expand_nested=False, dpi=96\n",
    ")"
   ]
  },
  {
   "cell_type": "code",
   "execution_count": 48,
   "id": "d9d8db9e",
   "metadata": {},
   "outputs": [
    {
     "data": {
      "text/plain": [
       "array([[ 53,   3,   0, ...,   0,   0,   0],\n",
       "       [  0, 704,   5, ...,   0,   0,   0],\n",
       "       [  0,  72, 678, ...,   0,   0,   0],\n",
       "       ...,\n",
       "       [  0,   4,   1, ...,  78,   0,   0],\n",
       "       [  0,   0,   0, ...,   0,  29,   0],\n",
       "       [  0,   0,   0, ...,   0,   2,  83]], dtype=int64)"
      ]
     },
     "execution_count": 48,
     "metadata": {},
     "output_type": "execute_result"
    }
   ],
   "source": [
    "predict_x=model.predict(x_test_gray_norm) \n",
    "classes_x=np.argmax(predict_x,axis=1)\n",
    "y_true = y_test\n",
    "\n",
    "from sklearn.metrics import confusion_matrix\n",
    "\n",
    "cm = confusion_matrix(y_true, classes_x)\n",
    "cm"
   ]
  },
  {
   "cell_type": "code",
   "execution_count": 50,
   "id": "9413e682",
   "metadata": {},
   "outputs": [
    {
     "data": {
      "text/plain": [
       "array([[ 53,   3,   0,   0,   2],\n",
       "       [  0, 704,   5,   0,   3],\n",
       "       [  0,  72, 678,   0,   0],\n",
       "       [  0,   0,   1, 437,   0],\n",
       "       [  0,   8,  15,   0, 632]], dtype=int64)"
      ]
     },
     "execution_count": 50,
     "metadata": {},
     "output_type": "execute_result"
    }
   ],
   "source": [
    "cm[:5,:5]"
   ]
  },
  {
   "cell_type": "code",
   "execution_count": 53,
   "id": "857fe93b",
   "metadata": {},
   "outputs": [
    {
     "data": {
      "image/png": "[encoded data removed]",
      "text/plain": [
       "<Figure size 432x288 with 11 Axes>"
      ]
     },
     "metadata": {
      "needs_background": "light"
     },
     "output_type": "display_data"
    }
   ],
   "source": [
    "for i in range(0,12):\n",
    "    plt.subplot(4,3,i+1)\n",
    "    plt.imshow(x_test_gray_norm[i].squeeze(), cmap='gray', interpolation='none')\n",
    "    plt.title(\"Predicted {}, Class {}\".format(classes_x[i], y_true[i]))\n",
    "    plt.tight_layout()"
   ]
  },
  {
   "cell_type": "code",
   "execution_count": 54,
   "id": "70517677",
   "metadata": {},
   "outputs": [
    {
     "name": "stdout",
     "output_type": "stream",
     "text": [
      "              precision    recall  f1-score   support\n",
      "\n",
      "           0       1.00      0.88      0.94        60\n",
      "           1       0.87      0.98      0.92       720\n",
      "           2       0.93      0.90      0.92       750\n",
      "           3       0.95      0.97      0.96       450\n",
      "           4       0.98      0.96      0.97       660\n",
      "           5       0.86      0.94      0.90       630\n",
      "           6       0.99      0.81      0.89       150\n",
      "           7       0.96      0.85      0.90       450\n",
      "           8       0.97      0.90      0.94       450\n",
      "           9       0.93      1.00      0.96       480\n",
      "          10       0.98      0.99      0.99       660\n",
      "          11       0.95      0.99      0.97       420\n",
      "          12       1.00      0.99      0.99       690\n",
      "          13       1.00      1.00      1.00       720\n",
      "          14       0.99      1.00      0.99       270\n",
      "          15       0.95      1.00      0.97       210\n",
      "          16       1.00      0.97      0.98       150\n",
      "          17       0.99      0.99      0.99       360\n",
      "          18       0.87      0.90      0.89       390\n",
      "          19       0.91      1.00      0.95        60\n",
      "          20       0.77      0.94      0.85        90\n",
      "          21       1.00      0.84      0.92        90\n",
      "          22       0.83      0.97      0.90       120\n",
      "          23       0.86      0.98      0.92       150\n",
      "          24       1.00      0.76      0.86        90\n",
      "          25       0.96      0.97      0.97       480\n",
      "          26       0.93      0.69      0.79       180\n",
      "          27       1.00      0.72      0.83        60\n",
      "          28       0.92      0.99      0.96       150\n",
      "          29       0.94      1.00      0.97        90\n",
      "          30       0.98      0.71      0.82       150\n",
      "          31       0.96      0.99      0.98       270\n",
      "          32       0.79      1.00      0.88        60\n",
      "          33       1.00      0.97      0.98       210\n",
      "          34       0.98      0.97      0.98       120\n",
      "          35       0.98      0.98      0.98       390\n",
      "          36       0.97      0.97      0.97       120\n",
      "          37       1.00      0.92      0.96        60\n",
      "          38       0.99      0.99      0.99       690\n",
      "          39       1.00      0.98      0.99        90\n",
      "          40       0.99      0.87      0.92        90\n",
      "          41       0.94      0.48      0.64        60\n",
      "          42       1.00      0.92      0.96        90\n",
      "\n",
      "    accuracy                           0.95     12630\n",
      "   macro avg       0.95      0.92      0.93     12630\n",
      "weighted avg       0.95      0.95      0.95     12630\n",
      "\n"
     ]
    }
   ],
   "source": [
    "from sklearn.metrics import classification_report\n",
    "print(classification_report(y_true, classes_x))"
   ]
  },
  {
   "cell_type": "code",
   "execution_count": null,
   "id": "052ccfb4",
   "metadata": {},
   "outputs": [],
   "source": []
  }
 ],
 "metadata": {
  "kernelspec": {
   "display_name": "Python 3",
   "language": "python",
   "name": "python3"
  },
  "language_info": {
   "codemirror_mode": {
    "name": "ipython",
    "version": 3
   },
   "file_extension": ".py",
   "mimetype": "text/x-python",
   "name": "python",
   "nbconvert_exporter": "python",
   "pygments_lexer": "ipython3",
   "version": "3.9.7"
  }
 },
 "nbformat": 4,
 "nbformat_minor": 5
}
